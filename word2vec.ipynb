{
 "cells": [
  {
   "cell_type": "code",
   "execution_count": 5,
   "metadata": {},
   "outputs": [],
   "source": [
    "import pandas as pd\n",
    "import numpy as np\n",
    "from sentence_transformers import SentenceTransformer, util\n",
    "\n",
    "# データの読み込み\n",
    "df = pd.read_excel('processed_terms.xlsx')\n",
    "\n",
    "# BERTモデルのロード\n",
    "model = SentenceTransformer('all-MiniLM-L6-v2')\n",
    "\n",
    "# 定義文のベクトル化\n",
    "embeddings = model.encode(df['definition'].tolist(), convert_to_tensor=True)\n",
    "\n",
    "# 類似度の計算\n",
    "cosine_scores = util.pytorch_cos_sim(embeddings, embeddings)"
   ]
  },
  {
   "cell_type": "code",
   "execution_count": 7,
   "metadata": {},
   "outputs": [],
   "source": [
    "# CUDAからCPUに移動してNumPy配列に変換\n",
    "cosine_scores = cosine_scores.cpu().numpy()"
   ]
  },
  {
   "cell_type": "code",
   "execution_count": 34,
   "metadata": {},
   "outputs": [],
   "source": [
    "np.save('data/cosine_scores.npy', cosine_scores)\n"
   ]
  },
  {
   "cell_type": "code",
   "execution_count": 35,
   "metadata": {},
   "outputs": [],
   "source": [
    "# 関数の定義\n",
    "def get_similar_definitions(term, lower_threshold=0.5, upper_threshold=0.8):\n",
    "    term_indices = df[df['term'] == term].index.tolist()\n",
    "    \n",
    "    if not term_indices:\n",
    "        return f\"Term '{term}' not found in the dataset.\"\n",
    "    \n",
    "    valid_entries = []\n",
    "    for idx in range(len(df)):\n",
    "        if df['term'].iloc[idx] != term:\n",
    "            max_similarity = max(cosine_scores[idx][term_indices])\n",
    "            if lower_threshold <= max_similarity <= upper_threshold:\n",
    "                valid_entries.append((df['term'].iloc[idx], df['definition'].iloc[idx], max_similarity))\n",
    "    \n",
    "    # データフレームに変換して返す\n",
    "    similar_definitions = pd.DataFrame(valid_entries, columns=['term', 'definition', 'similarity'])\n",
    "    \n",
    "    return similar_definitions\n",
    "\n",
    "# 使用例\n",
    "term = 'duty'  # 指定したい単語\n",
    "similar_definitions = get_similar_definitions(term)"
   ]
  },
  {
   "cell_type": "code",
   "execution_count": 42,
   "metadata": {},
   "outputs": [
    {
     "data": {
      "text/plain": [
       "array(['principle', 'excuse', 'industry', 'initiative'], dtype=object)"
      ]
     },
     "execution_count": 42,
     "metadata": {},
     "output_type": "execute_result"
    }
   ],
   "source": [
    "similar_definitions[\"term\"].drop_duplicates().sample(4).values"
   ]
  },
  {
   "cell_type": "code",
   "execution_count": 21,
   "metadata": {},
   "outputs": [
    {
     "data": {
      "text/plain": [
       "array([0.99475601, 1.13802837, 0.83372848, ..., 0.95836306, 0.69326716,\n",
       "       0.81044225])"
      ]
     },
     "execution_count": 21,
     "metadata": {},
     "output_type": "execute_result"
    }
   ],
   "source": [
    "(cosine_scores- np.eye(len(cosine_scores))).max(axis=1) - (cosine_scores- np.eye(len(cosine_scores))).min(axis=1)"
   ]
  },
  {
   "cell_type": "code",
   "execution_count": 2,
   "metadata": {},
   "outputs": [
    {
     "data": {
      "text/html": [
       "<div>\n",
       "<style scoped>\n",
       "    .dataframe tbody tr th:only-of-type {\n",
       "        vertical-align: middle;\n",
       "    }\n",
       "\n",
       "    .dataframe tbody tr th {\n",
       "        vertical-align: top;\n",
       "    }\n",
       "\n",
       "    .dataframe thead th {\n",
       "        text-align: right;\n",
       "    }\n",
       "</style>\n",
       "<table border=\"1\" class=\"dataframe\">\n",
       "  <thead>\n",
       "    <tr style=\"text-align: right;\">\n",
       "      <th></th>\n",
       "      <th>term</th>\n",
       "      <th>definition</th>\n",
       "      <th>usage</th>\n",
       "      <th>processed_definition</th>\n",
       "    </tr>\n",
       "  </thead>\n",
       "  <tbody>\n",
       "    <tr>\n",
       "      <th>0</th>\n",
       "      <td>respond</td>\n",
       "      <td>to give a spoken or written answer to someone ...</td>\n",
       "      <td>\"I asked him his name, but he didn't  respond....</td>\n",
       "      <td>[give, spoken, written, answer, someone, somet...</td>\n",
       "    </tr>\n",
       "    <tr>\n",
       "      <th>1</th>\n",
       "      <td>respond</td>\n",
       "      <td>to do something as a reaction to something tha...</td>\n",
       "      <td>\"How did they  respond to the news?\"\\n\"The gov...</td>\n",
       "      <td>[something, reaction, something, someone, said...</td>\n",
       "    </tr>\n",
       "    <tr>\n",
       "      <th>2</th>\n",
       "      <td>respond</td>\n",
       "      <td>to react quickly or in the correct way to some...</td>\n",
       "      <td>\"The car  responds very well to the controls.\"...</td>\n",
       "      <td>[react, quickly, correct, way, something, some...</td>\n",
       "    </tr>\n",
       "    <tr>\n",
       "      <th>3</th>\n",
       "      <td>response</td>\n",
       "      <td>a spoken or written answer</td>\n",
       "      <td>\"She made no  response.\"\\n\"In  response to you...</td>\n",
       "      <td>[spoken, written, answer]</td>\n",
       "    </tr>\n",
       "    <tr>\n",
       "      <th>4</th>\n",
       "      <td>response</td>\n",
       "      <td>a reaction to something that has happened or b...</td>\n",
       "      <td>\"The news provoked an angry  response.\"\\n\"a po...</td>\n",
       "      <td>[reaction, something, happened, said]</td>\n",
       "    </tr>\n",
       "    <tr>\n",
       "      <th>...</th>\n",
       "      <td>...</td>\n",
       "      <td>...</td>\n",
       "      <td>...</td>\n",
       "      <td>...</td>\n",
       "    </tr>\n",
       "    <tr>\n",
       "      <th>8888</th>\n",
       "      <td>allow</td>\n",
       "      <td>to let someone or something go into, through, ...</td>\n",
       "      <td>\"No dogs  allowed (= you cannot bring them in)...</td>\n",
       "      <td>[let, someone, something, go, etc, place]</td>\n",
       "    </tr>\n",
       "    <tr>\n",
       "      <th>8889</th>\n",
       "      <td>allow for</td>\n",
       "      <td>to consider or include someone or something wh...</td>\n",
       "      <td>\"It will take about an hour to get there, allo...</td>\n",
       "      <td>[consider, include, someone, something, calcul...</td>\n",
       "    </tr>\n",
       "    <tr>\n",
       "      <th>8890</th>\n",
       "      <td>all right</td>\n",
       "      <td>acceptable; in an acceptable manner</td>\n",
       "      <td>\"Is the coffee  all right?\"\\n\"Are you getting ...</td>\n",
       "      <td>[acceptable, acceptable, manner]</td>\n",
       "    </tr>\n",
       "    <tr>\n",
       "      <th>8891</th>\n",
       "      <td>all right</td>\n",
       "      <td>safe and well</td>\n",
       "      <td>\"I hope the children are  all right.\"\\n\"Do you...</td>\n",
       "      <td>[safe, well]</td>\n",
       "    </tr>\n",
       "    <tr>\n",
       "      <th>8892</th>\n",
       "      <td>all right</td>\n",
       "      <td>only just good enough</td>\n",
       "      <td>\"Your work is  all right but I'm sure you coul...</td>\n",
       "      <td>[good, enough]</td>\n",
       "    </tr>\n",
       "  </tbody>\n",
       "</table>\n",
       "<p>8893 rows × 4 columns</p>\n",
       "</div>"
      ],
      "text/plain": [
       "           term                                         definition  \\\n",
       "0       respond  to give a spoken or written answer to someone ...   \n",
       "1       respond  to do something as a reaction to something tha...   \n",
       "2       respond  to react quickly or in the correct way to some...   \n",
       "3      response                         a spoken or written answer   \n",
       "4      response  a reaction to something that has happened or b...   \n",
       "...         ...                                                ...   \n",
       "8888      allow  to let someone or something go into, through, ...   \n",
       "8889  allow for  to consider or include someone or something wh...   \n",
       "8890  all right                acceptable; in an acceptable manner   \n",
       "8891  all right                                      safe and well   \n",
       "8892  all right                              only just good enough   \n",
       "\n",
       "                                                  usage  \\\n",
       "0     \"I asked him his name, but he didn't  respond....   \n",
       "1     \"How did they  respond to the news?\"\\n\"The gov...   \n",
       "2     \"The car  responds very well to the controls.\"...   \n",
       "3     \"She made no  response.\"\\n\"In  response to you...   \n",
       "4     \"The news provoked an angry  response.\"\\n\"a po...   \n",
       "...                                                 ...   \n",
       "8888  \"No dogs  allowed (= you cannot bring them in)...   \n",
       "8889  \"It will take about an hour to get there, allo...   \n",
       "8890  \"Is the coffee  all right?\"\\n\"Are you getting ...   \n",
       "8891  \"I hope the children are  all right.\"\\n\"Do you...   \n",
       "8892  \"Your work is  all right but I'm sure you coul...   \n",
       "\n",
       "                                   processed_definition  \n",
       "0     [give, spoken, written, answer, someone, somet...  \n",
       "1     [something, reaction, something, someone, said...  \n",
       "2     [react, quickly, correct, way, something, some...  \n",
       "3                             [spoken, written, answer]  \n",
       "4                 [reaction, something, happened, said]  \n",
       "...                                                 ...  \n",
       "8888          [let, someone, something, go, etc, place]  \n",
       "8889  [consider, include, someone, something, calcul...  \n",
       "8890                   [acceptable, acceptable, manner]  \n",
       "8891                                       [safe, well]  \n",
       "8892                                     [good, enough]  \n",
       "\n",
       "[8893 rows x 4 columns]"
      ]
     },
     "execution_count": 2,
     "metadata": {},
     "output_type": "execute_result"
    }
   ],
   "source": [
    "df"
   ]
  },
  {
   "cell_type": "code",
   "execution_count": 3,
   "metadata": {},
   "outputs": [
    {
     "name": "stdout",
     "output_type": "stream",
     "text": [
      "8893\n",
      "8856\n"
     ]
    }
   ],
   "source": [
    "# Word2Vecモデルをトレーニング\n",
    "model = Word2Vec(df['processed_definition'], vector_size=20, window=5, min_count=4, workers=4)\n",
    "\n",
    "# 定義のベクトルを計算\n",
    "def get_definition_vector(definition):\n",
    "    words = preprocess_text(definition)\n",
    "    word_vectors = [model.wv[word] for word in words if word in model.wv]\n",
    "    if word_vectors:\n",
    "        return sum(word_vectors) / len(word_vectors)\n",
    "    else:\n",
    "        return None\n",
    "\n",
    "df['definition_vector'] = df['definition'].map(get_definition_vector)\n",
    "print(len(df))\n",
    "df = df.dropna(subset=['definition_vector'])\n",
    "print(len(df))"
   ]
  },
  {
   "cell_type": "code",
   "execution_count": 4,
   "metadata": {},
   "outputs": [
    {
     "data": {
      "text/plain": [
       "0       [-0.28969523, -0.0044496567, 0.41091046, 0.121...\n",
       "1       [-0.30902022, -0.016677683, 0.42486122, 0.1191...\n",
       "2       [-0.28213012, 0.018198324, 0.3824058, 0.105583...\n",
       "3       [-0.1645499, 0.0071708285, 0.24807613, 0.10257...\n",
       "4       [-0.21644773, -0.013518977, 0.28675202, 0.0918...\n",
       "                              ...                        \n",
       "8888    [-0.35110262, -0.00921421, 0.41981217, 0.14915...\n",
       "8889    [-0.29240614, -0.027238186, 0.40592328, 0.1038...\n",
       "8890    [-0.085035436, -0.014396536, 0.23307776, 0.054...\n",
       "8891    [-0.15117326, 0.0054118615, 0.17402571, 0.0723...\n",
       "8892    [-0.2689566, 0.020560954, 0.43441147, 0.115954...\n",
       "Name: definition_vector, Length: 8856, dtype: object"
      ]
     },
     "execution_count": 4,
     "metadata": {},
     "output_type": "execute_result"
    }
   ],
   "source": [
    "df['definition_vector']"
   ]
  },
  {
   "cell_type": "code",
   "execution_count": 5,
   "metadata": {},
   "outputs": [
    {
     "name": "stdout",
     "output_type": "stream",
     "text": [
      "[-0.317717   -0.00801581  0.4086543   0.17147079 -0.4689266  -0.1657577\n",
      " -0.16993819  1.072211   -0.50706357  0.06308155  1.0576671  -0.33372992\n",
      "  0.2615611  -0.27484098  0.75604266  0.6091417   0.987827   -0.32506496\n",
      " -1.0411541  -1.2707291 ]\n"
     ]
    },
    {
     "data": {
      "text/html": [
       "<div>\n",
       "<style scoped>\n",
       "    .dataframe tbody tr th:only-of-type {\n",
       "        vertical-align: middle;\n",
       "    }\n",
       "\n",
       "    .dataframe tbody tr th {\n",
       "        vertical-align: top;\n",
       "    }\n",
       "\n",
       "    .dataframe thead th {\n",
       "        text-align: right;\n",
       "    }\n",
       "</style>\n",
       "<table border=\"1\" class=\"dataframe\">\n",
       "  <thead>\n",
       "    <tr style=\"text-align: right;\">\n",
       "      <th></th>\n",
       "      <th>term</th>\n",
       "      <th>definition</th>\n",
       "      <th>usage</th>\n",
       "      <th>processed_definition</th>\n",
       "      <th>definition_vector</th>\n",
       "    </tr>\n",
       "  </thead>\n",
       "  <tbody>\n",
       "    <tr>\n",
       "      <th>775</th>\n",
       "      <td>industrial</td>\n",
       "      <td>used by industries</td>\n",
       "      <td>\" industrial chemicals\"</td>\n",
       "      <td>[used, industries]</td>\n",
       "      <td>[-0.4074085, 0.025645, 0.6056551, 0.16244493, ...</td>\n",
       "    </tr>\n",
       "    <tr>\n",
       "      <th>5321</th>\n",
       "      <td>living</td>\n",
       "      <td>used or practiced now</td>\n",
       "      <td>\" living languages (= those still spoken)\"\\n\"a...</td>\n",
       "      <td>[used, practiced]</td>\n",
       "      <td>[-0.4074085, 0.025645, 0.6056551, 0.16244493, ...</td>\n",
       "    </tr>\n",
       "    <tr>\n",
       "      <th>5699</th>\n",
       "      <td>have</td>\n",
       "      <td>be made up of</td>\n",
       "      <td>\"In 2008 the party had 10,000 members.\"</td>\n",
       "      <td>[made]</td>\n",
       "      <td>[-0.46906608, -0.048427206, 0.6064385, 0.24698...</td>\n",
       "    </tr>\n",
       "    <tr>\n",
       "      <th>7016</th>\n",
       "      <td>e.g.</td>\n",
       "      <td>for example (from Latin‘exempli gratia’)</td>\n",
       "      <td>\"popular pets ( e.g., cats and dogs)\"&gt;</td>\n",
       "      <td>[example, latinexempli, gratia]</td>\n",
       "      <td>[-0.45500967, 0.0145133175, 0.599977, 0.295775...</td>\n",
       "    </tr>\n",
       "    <tr>\n",
       "      <th>459</th>\n",
       "      <td>smooth</td>\n",
       "      <td>without any lumps</td>\n",
       "      <td>\"Mix the flour with the milk to form a  smooth...</td>\n",
       "      <td>[without, lumps]</td>\n",
       "      <td>[-0.36291134, -0.016470421, 0.6222975, 0.17910...</td>\n",
       "    </tr>\n",
       "    <tr>\n",
       "      <th>...</th>\n",
       "      <td>...</td>\n",
       "      <td>...</td>\n",
       "      <td>...</td>\n",
       "      <td>...</td>\n",
       "      <td>...</td>\n",
       "    </tr>\n",
       "    <tr>\n",
       "      <th>5348</th>\n",
       "      <td>past</td>\n",
       "      <td>gone by in time</td>\n",
       "      <td>\"in  past years/centuries/ages\"\\n\"in times  pa...</td>\n",
       "      <td>[gone, time]</td>\n",
       "      <td>[-0.41063052, -0.014413495, 0.42693654, 0.1298...</td>\n",
       "    </tr>\n",
       "    <tr>\n",
       "      <th>6171</th>\n",
       "      <td>increasingly</td>\n",
       "      <td>more and more all the time</td>\n",
       "      <td>\" increasingly difficult/important/popular\"\\n\"...</td>\n",
       "      <td>[time]</td>\n",
       "      <td>[-0.41063052, -0.014413495, 0.42693654, 0.1298...</td>\n",
       "    </tr>\n",
       "    <tr>\n",
       "      <th>4037</th>\n",
       "      <td>solid</td>\n",
       "      <td>strong and made well</td>\n",
       "      <td>\"These chains seem fairly  solid.\"\\n\\n&gt;</td>\n",
       "      <td>[strong, made, well]</td>\n",
       "      <td>[-0.3533963, -0.030816182, 0.47496447, 0.19708...</td>\n",
       "    </tr>\n",
       "    <tr>\n",
       "      <th>44</th>\n",
       "      <td>shadow</td>\n",
       "      <td>a very small amount of something</td>\n",
       "      <td>\"A  shadow of a smile touched his mouth.\"\\n\"Sh...</td>\n",
       "      <td>[small, amount, something]</td>\n",
       "      <td>[-0.39568582, 0.0009829054, 0.49806297, 0.1896...</td>\n",
       "    </tr>\n",
       "    <tr>\n",
       "      <th>4415</th>\n",
       "      <td>cheaply</td>\n",
       "      <td>without spending or costing much money</td>\n",
       "      <td>\"I'm sure I could buy this more  cheaply somew...</td>\n",
       "      <td>[without, spending, costing, much, money]</td>\n",
       "      <td>[-0.35672125, -0.012259283, 0.5141012, 0.21345...</td>\n",
       "    </tr>\n",
       "  </tbody>\n",
       "</table>\n",
       "<p>101 rows × 5 columns</p>\n",
       "</div>"
      ],
      "text/plain": [
       "              term                                definition  \\\n",
       "775     industrial                        used by industries   \n",
       "5321        living                     used or practiced now   \n",
       "5699          have                             be made up of   \n",
       "7016          e.g.  for example (from Latin‘exempli gratia’)   \n",
       "459         smooth                         without any lumps   \n",
       "...            ...                                       ...   \n",
       "5348          past                           gone by in time   \n",
       "6171  increasingly                more and more all the time   \n",
       "4037         solid                      strong and made well   \n",
       "44          shadow          a very small amount of something   \n",
       "4415       cheaply    without spending or costing much money   \n",
       "\n",
       "                                                  usage  \\\n",
       "775                             \" industrial chemicals\"   \n",
       "5321  \" living languages (= those still spoken)\"\\n\"a...   \n",
       "5699            \"In 2008 the party had 10,000 members.\"   \n",
       "7016             \"popular pets ( e.g., cats and dogs)\">   \n",
       "459   \"Mix the flour with the milk to form a  smooth...   \n",
       "...                                                 ...   \n",
       "5348  \"in  past years/centuries/ages\"\\n\"in times  pa...   \n",
       "6171  \" increasingly difficult/important/popular\"\\n\"...   \n",
       "4037            \"These chains seem fairly  solid.\"\\n\\n>   \n",
       "44    \"A  shadow of a smile touched his mouth.\"\\n\"Sh...   \n",
       "4415  \"I'm sure I could buy this more  cheaply somew...   \n",
       "\n",
       "                           processed_definition  \\\n",
       "775                          [used, industries]   \n",
       "5321                          [used, practiced]   \n",
       "5699                                     [made]   \n",
       "7016            [example, latinexempli, gratia]   \n",
       "459                            [without, lumps]   \n",
       "...                                         ...   \n",
       "5348                               [gone, time]   \n",
       "6171                                     [time]   \n",
       "4037                       [strong, made, well]   \n",
       "44                   [small, amount, something]   \n",
       "4415  [without, spending, costing, much, money]   \n",
       "\n",
       "                                      definition_vector  \n",
       "775   [-0.4074085, 0.025645, 0.6056551, 0.16244493, ...  \n",
       "5321  [-0.4074085, 0.025645, 0.6056551, 0.16244493, ...  \n",
       "5699  [-0.46906608, -0.048427206, 0.6064385, 0.24698...  \n",
       "7016  [-0.45500967, 0.0145133175, 0.599977, 0.295775...  \n",
       "459   [-0.36291134, -0.016470421, 0.6222975, 0.17910...  \n",
       "...                                                 ...  \n",
       "5348  [-0.41063052, -0.014413495, 0.42693654, 0.1298...  \n",
       "6171  [-0.41063052, -0.014413495, 0.42693654, 0.1298...  \n",
       "4037  [-0.3533963, -0.030816182, 0.47496447, 0.19708...  \n",
       "44    [-0.39568582, 0.0009829054, 0.49806297, 0.1896...  \n",
       "4415  [-0.35672125, -0.012259283, 0.5141012, 0.21345...  \n",
       "\n",
       "[101 rows x 5 columns]"
      ]
     },
     "metadata": {},
     "output_type": "display_data"
    }
   ],
   "source": [
    "import numpy as np\n",
    "\n",
    "def find_similar_definitions(target_vector, top_n=10):\n",
    "    similarities = df['definition_vector'].map(lambda x: np.dot(x, target_vector))\n",
    "    return similarities\n",
    "\n",
    "# 例として、最初の単語の定義を基に選択肢を作成\n",
    "row = df.sample(1).iloc[0]\n",
    "target_definition_vector = row['definition_vector']\n",
    "print(target_definition_vector)\n",
    "similarities = find_similar_definitions(target_definition_vector)\n",
    "\n",
    "# print(f\"単語: {row['term']}, 定義: {row['definition']}\")\n",
    "# # 選択肢を表示\n",
    "# for index, row in similar_definitions_df.iterrows():\n",
    "#     print(f\"単語: {row['term']}, 定義: {row['definition']}\")\n",
    "\n",
    "top_n = 100\n",
    "similar_indices = similarities.nlargest(top_n + 1).index\n",
    "display(df.loc[similar_indices])"
   ]
  },
  {
   "cell_type": "code",
   "execution_count": 7,
   "metadata": {},
   "outputs": [
    {
     "data": {
      "text/plain": [
       "<Axes: xlabel='processed_definition'>"
      ]
     },
     "execution_count": 7,
     "metadata": {},
     "output_type": "execute_result"
    },
    {
     "data": {
      "image/png": "[encoded data removed]",
      "text/plain": [
       "<Figure size 640x480 with 1 Axes>"
      ]
     },
     "metadata": {},
     "output_type": "display_data"
    }
   ],
   "source": [
    "df[\"processed_definition\"].map(len).value_counts().sort_index().plot()"
   ]
  },
  {
   "cell_type": "code",
   "execution_count": null,
   "metadata": {},
   "outputs": [],
   "source": []
  },
  {
   "cell_type": "code",
   "execution_count": 59,
   "metadata": {},
   "outputs": [
    {
     "data": {
      "text/plain": [
       "5699    5.033568\n",
       "775     4.859731\n",
       "5321    4.859731\n",
       "7016    4.835745\n",
       "Name: definition_vector, dtype: float32"
      ]
     },
     "execution_count": 59,
     "metadata": {},
     "output_type": "execute_result"
    }
   ],
   "source": [
    "similarities.nlargest(3 + 1)"
   ]
  },
  {
   "cell_type": "code",
   "execution_count": null,
   "metadata": {},
   "outputs": [],
   "source": []
  }
 ],
 "metadata": {
  "kernelspec": {
   "display_name": "flashcard_env",
   "language": "python",
   "name": "flashcard_env"
  },
  "language_info": {
   "codemirror_mode": {
    "name": "ipython",
    "version": 3
   },
   "file_extension": ".py",
   "mimetype": "text/x-python",
   "name": "python",
   "nbconvert_exporter": "python",
   "pygments_lexer": "ipython3",
   "version": "3.12.3"
  }
 },
 "nbformat": 4,
 "nbformat_minor": 2
}
